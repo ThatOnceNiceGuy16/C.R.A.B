{
 "cells": [
  {
   "cell_type": "code",
   "execution_count": 10,
   "id": "6c782f7e",
   "metadata": {},
   "outputs": [],
   "source": [
    "import numpy as np\n",
    "import pandas as pd\n",
    "import matplotlib.pyplot as plt\n",
    "\n",
    "sr = pd.read_csv('reviews.csv') "
   ]
  },
  {
   "cell_type": "code",
   "execution_count": null,
   "id": "139222f1",
   "metadata": {},
   "outputs": [],
   "source": [
    "j=int(0)\n",
    "i = int(0)\n",
    "reviews = sr[\"Review\"]\n",
    "ratings = sr[\"Rating\"]\n",
    "keywordscnt = []\n",
    "keywordsbool = []\n",
    "keywords = [\"great\", \"high\", \"low\", \"quality\", \"share\", \"ads\", \"dissapointed\", \"error\", \"positive\", \"negetive\", \"easy\", \"work\", \"device\", \"free\" ]\n",
    "for c in keywords:\n",
    "    keywordscnt.append(0)\n",
    "for v in reviews: \n",
    "    keywordsbool.append(False)\n",
    "while i < 3000:\n",
    "    checkee = reviews[i]\n",
    "    j=int(0)\n",
    "    while j < 14:\n",
    "        if keywords[j] in checkee.lower():\n",
    "            keywordscnt[j]=keywordscnt[j]+1\n",
    "            if ratings[i] >= 3:\n",
    "                keywordsbool[j]=True\n",
    "        j = j + 1\n",
    "    i = i+ 1"
   ]
  },
  {
   "cell_type": "code",
   "execution_count": 13,
   "id": "1af8c0a8",
   "metadata": {
    "scrolled": true
   },
   "outputs": [
    {
     "data": {
      "text/plain": [
       "<function matplotlib.pyplot.show(close=None, block=None)>"
      ]
     },
     "execution_count": 13,
     "metadata": {},
     "output_type": "execute_result"
    },
    {
     "data": {
      "image/png": "[encoded data removed]",
      "text/plain": [
       "<Figure size 432x288 with 1 Axes>"
      ]
     },
     "metadata": {
      "needs_background": "light"
     },
     "output_type": "display_data"
    }
   ],
   "source": [
    "plt.scatter(keywords, keywordscnt)\n",
    "plt.show"
   ]
  }
 ],
 "metadata": {
  "kernelspec": {
   "display_name": "Python 3 (ipykernel)",
   "language": "python",
   "name": "python3"
  },
  "language_info": {
   "codemirror_mode": {
    "name": "ipython",
    "version": 3
   },
   "file_extension": ".py",
   "mimetype": "text/x-python",
   "name": "python",
   "nbconvert_exporter": "python",
   "pygments_lexer": "ipython3",
   "version": "3.9.12"
  }
 },
 "nbformat": 4,
 "nbformat_minor": 5
}
